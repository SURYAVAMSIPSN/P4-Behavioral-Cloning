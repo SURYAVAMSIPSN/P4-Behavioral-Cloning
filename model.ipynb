{
 "cells": [
  {
   "cell_type": "code",
   "execution_count": 1,
   "metadata": {},
   "outputs": [],
   "source": [
    "from tensorflow.keras.models import Sequential\n",
    "from tensorflow.keras.layers import Flatten, Dense, Lambda, Conv2D, MaxPooling2D, Cropping2D, Activation, Dropout\n",
    "from tensorflow.keras.optimizers import Adam, Adadelta, Adagrad, Adamax\n",
    "from tensorflow.keras.callbacks import ModelCheckpoint\n",
    "from tensorflow.keras import applications\n",
    "import csv\n",
    "import numpy as np\n",
    "import cv2\n",
    "import matplotlib.pyplot as plt\n",
    "import pickle"
   ]
  },
  {
   "cell_type": "code",
   "execution_count": 2,
   "metadata": {},
   "outputs": [
    {
     "name": "stdout",
     "output_type": "stream",
     "text": [
      "(14960, 160, 320, 3) (14960,)\n"
     ]
    }
   ],
   "source": [
    "# image retrieval and augmentation. \n",
    "\n",
    "lines = []\n",
    "with open('driving_log.csv') as csvfile:\n",
    "    reader = csv.reader(csvfile)\n",
    "    for line in reader: \n",
    "        lines.append(line)\n",
    "        \n",
    "aug_measurements = []\n",
    "aug_images = []\n",
    "for line in lines:\n",
    "    source_path = line[0]\n",
    "    file_name = source_path.split('\\\\')[-1]\n",
    "    current_path = 'IMG\\\\' + file_name\n",
    "    image = cv2.imread(current_path)\n",
    "    measurement = float(line[3])\n",
    "    \n",
    "    aug_images.append(image)\n",
    "    aug_measurements.append(measurement)\n",
    "    aug_images.append(np.fliplr(image))\n",
    "    aug_measurements.append(measurement * -1.0) # data augmentation!! \n",
    "\n",
    "\n",
    "X_train = np.array(aug_images) # images\n",
    "y_train = np.array(aug_measurements) # labels\n",
    "\n",
    "print(X_train.shape, y_train.shape)"
   ]
  },
  {
   "cell_type": "code",
   "execution_count": 6,
   "metadata": {
    "scrolled": false
   },
   "outputs": [
    {
     "name": "stdout",
     "output_type": "stream",
     "text": [
      "Compiling...\n",
      "Train on 9574 samples, validate on 2394 samples\n",
      "Epoch 1/7\n",
      "9574/9574 [==============================] - 44s 5ms/sample - loss: 0.0666 - val_loss: 0.0572\n",
      "Epoch 2/7\n",
      "9574/9574 [==============================] - 43s 4ms/sample - loss: 0.0562 - val_loss: 0.0549\n",
      "Epoch 3/7\n",
      "9574/9574 [==============================] - 43s 4ms/sample - loss: 0.0511 - val_loss: 0.0529\n",
      "Epoch 4/7\n",
      "9574/9574 [==============================] - 43s 4ms/sample - loss: 0.0473 - val_loss: 0.0516\n",
      "Epoch 5/7\n",
      "9574/9574 [==============================] - 43s 4ms/sample - loss: 0.0442 - val_loss: 0.0486\n",
      "Epoch 6/7\n",
      "9574/9574 [==============================] - 44s 5ms/sample - loss: 0.0403 - val_loss: 0.0505\n",
      "Epoch 7/7\n",
      "9574/9574 [==============================] - 43s 5ms/sample - loss: 0.0368 - val_loss: 0.0494\n",
      "Done.\n",
      "\n",
      "Training...\n",
      "Done.\n",
      "\n",
      "Model Summary: \n",
      "Model: \"sequential_1\"\n",
      "_________________________________________________________________\n",
      "Layer (type)                 Output Shape              Param #   \n",
      "=================================================================\n",
      "lambda_1 (Lambda)            multiple                  0         \n",
      "_________________________________________________________________\n",
      "cropping2d_1 (Cropping2D)    multiple                  0         \n",
      "_________________________________________________________________\n",
      "conv2d_2 (Conv2D)            multiple                  1824      \n",
      "_________________________________________________________________\n",
      "conv2d_3 (Conv2D)            multiple                  21636     \n",
      "_________________________________________________________________\n",
      "flatten_1 (Flatten)          multiple                  0         \n",
      "_________________________________________________________________\n",
      "dropout_2 (Dropout)          multiple                  0         \n",
      "_________________________________________________________________\n",
      "dense_3 (Dense)              multiple                  2483776   \n",
      "_________________________________________________________________\n",
      "dropout_3 (Dropout)          multiple                  0         \n",
      "_________________________________________________________________\n",
      "dense_4 (Dense)              multiple                  2080      \n",
      "_________________________________________________________________\n",
      "dense_5 (Dense)              multiple                  33        \n",
      "=================================================================\n",
      "Total params: 2,509,349\n",
      "Trainable params: 2,509,349\n",
      "Non-trainable params: 0\n",
      "_________________________________________________________________\n",
      "None\n",
      "Done.\n",
      "\n",
      "Saving model...\n",
      "Done-zel Washington.\n"
     ]
    }
   ],
   "source": [
    "# Training and validation. \n",
    "\n",
    "# hyper parameters. \n",
    "test_size = 0.20\n",
    "batch_size = 32\n",
    "epochs = 7\n",
    "verbose = 1\n",
    "additional_training_data = True\n",
    "\n",
    "\n",
    "model = Sequential()\n",
    "model.add(Lambda(lambda x: (x / 128) - 1.0)) # mean normalization. \n",
    "model.add(Cropping2D(cropping=((70,25), (0,0)), input_shape=(160, 320, 3)))\n",
    "model.add(Conv2D(24, (5, 5), strides=(2, 2), activation='relu'))\n",
    "model.add(Conv2D(36, (5, 5), strides=(2, 2), activation='relu'))\n",
    "model.add(Flatten())\n",
    "model.add(Dropout(0.5))\n",
    "model.add(Dense(64, activation='relu'))\n",
    "model.add(Dropout(0.5))\n",
    "model.add(Dense(32, activation='relu'))\n",
    "model.add(Dense(1))\n",
    "\n",
    "\n",
    "\n",
    "print(\"Compiling...\")\n",
    "model.compile(loss='mse', optimizer=Adam(lr=0.0001))\n",
    "model.fit(X_train, y_train, batch_size=batch_size, validation_split=0.2, shuffle=True, epochs=epochs)\n",
    "print(\"Done.\")\n",
    "\n",
    "print(\"\\nTraining...\")\n",
    "\n",
    "print(\"Done.\")\n",
    "\n",
    "print(\"\\nModel Summary: \")\n",
    "print(model.summary())\n",
    "print(\"Done.\")\n",
    "\n",
    "print(\"\\nSaving model...\")\n",
    "model.save('model.h5')\n",
    "print(\"Done-zel Washington.\")"
   ]
  },
  {
   "cell_type": "code",
   "execution_count": null,
   "metadata": {},
   "outputs": [],
   "source": []
  }
 ],
 "metadata": {
  "kernelspec": {
   "display_name": "Python 3",
   "language": "python",
   "name": "python3"
  },
  "language_info": {
   "codemirror_mode": {
    "name": "ipython",
    "version": 3
   },
   "file_extension": ".py",
   "mimetype": "text/x-python",
   "name": "python",
   "nbconvert_exporter": "python",
   "pygments_lexer": "ipython3",
   "version": "3.7.4"
  }
 },
 "nbformat": 4,
 "nbformat_minor": 2
}
